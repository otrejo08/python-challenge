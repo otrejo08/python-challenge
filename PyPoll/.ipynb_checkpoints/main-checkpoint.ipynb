{
 "cells": [
  {
   "cell_type": "code",
   "execution_count": 58,
   "metadata": {},
   "outputs": [],
   "source": [
    "import pandas as pd\n",
    "import os\n",
    "\n",
    "election_data = os.path.join(\"..\", \"election_data.csv\")\n",
    "\n",
    "election_data_df = pd.read_csv(election_data)\n"
   ]
  },
  {
   "cell_type": "code",
   "execution_count": 59,
   "metadata": {},
   "outputs": [
    {
     "name": "stdout",
     "output_type": "stream",
     "text": [
      "Election Results\n",
      "------------------------------\n",
      "Total Votes: 3521001\n",
      "------------------------------\n",
      "Khan: 63.000% (2218231)\n",
      "Correy: 20.000% (704200)\n",
      "Li: 14.000% (492940)\n",
      "O'Tooley: 3.000% (105630)\n",
      "------------------------------\n",
      "Winner: Khan\n"
     ]
    }
   ],
   "source": [
    "#Obtain total number of votes cast\n",
    "total_votes = election_data_df[\"Voter ID\"].count()\n",
    "print(\"Election Results\")\n",
    "print(\"-\"*30)\n",
    "print(\"Total Votes: \" + str(election_data_df[\"Voter ID\"].count()))\n",
    "print(\"-\"*30)\n",
    "\n",
    "#Obtain number of votes won for each candidate\n",
    "khan_votes = (election_data_df[\"Candidate\"]==\"Khan\").sum()\n",
    "correy_votes = (election_data_df[\"Candidate\"]==\"Correy\").sum()\n",
    "li_votes = (election_data_df[\"Candidate\"]==\"Li\").sum()\n",
    "otooley_votes = (election_data_df[\"Candidate\"]==\"O'Tooley\").sum()\n",
    "\n",
    "#Calculate percentage of votes won for each candidate\n",
    "khan_percent = khan_votes / total_votes * 100\n",
    "correy_percent = correy_votes / total_votes * 100\n",
    "li_percent = li_votes / total_votes * 100\n",
    "otooley_percent = otooley_votes / total_votes * 100\n",
    "\n",
    "print(\"Khan: \"\"%.3f\" % khan_percent + \"% \" + \"(\" + str(khan_votes) + \")\")\n",
    "print(\"Correy: \"\"%.3f\" % correy_percent + \"% \" + \"(\" + str(correy_votes) + \")\")\n",
    "print(\"Li: \"\"%.3f\" % li_percent + \"% \" + \"(\" + str(li_votes) + \")\")\n",
    "print(\"O'Tooley: \"\"%.3f\" % otooley_percent + \"% \" + \"(\" + str(otooley_votes) + \")\")\n",
    "print(\"-\" * 30)\n",
    "\n",
    "#Calculate winner of the election based on popular vote\n",
    "candidate_dict= {\n",
    "    \"Khan\": [khan_percent, khan_votes],\n",
    "    \"Correy\": [correy_percent, correy_votes],\n",
    "    \"Li\": [li_percent, li_votes],\n",
    "    \"O'Tooley\": [otooley_percent, otooley_votes]\n",
    "}\n",
    "\n",
    "votesList = list(candidate_dict.values())\n",
    "\n",
    "winner = str(list(candidate_dict.keys())[list(candidate_dict.values()).index(max(votesList))])\n",
    "\n",
    "print(\"Winner: \" + winner)"
   ]
  },
  {
   "cell_type": "code",
   "execution_count": 65,
   "metadata": {},
   "outputs": [],
   "source": [
    "import subprocess\n",
    "with open(\"PyPoll.txt\", \"w+\") as output:\n",
    "    subprocess.call([\"python\", \"./main.py\"], stdout=output);"
   ]
  }
 ],
 "metadata": {
  "kernelspec": {
   "display_name": "Python 3",
   "language": "python",
   "name": "python3"
  },
  "language_info": {
   "codemirror_mode": {
    "name": "ipython",
    "version": 3
   },
   "file_extension": ".py",
   "mimetype": "text/x-python",
   "name": "python",
   "nbconvert_exporter": "python",
   "pygments_lexer": "ipython3",
   "version": "3.7.0"
  }
 },
 "nbformat": 4,
 "nbformat_minor": 2
}

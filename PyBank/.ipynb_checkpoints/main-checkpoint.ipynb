{
 "cells": [
  {
   "cell_type": "code",
   "execution_count": 57,
   "metadata": {},
   "outputs": [],
   "source": [
    "import pandas as pd\n",
    "import os\n",
    "\n",
    "budget_data = os.path.join(\"..\", \"budget_data.csv\")\n",
    "\n",
    "budget_data_df = pd.read_csv(budget_data)\n"
   ]
  },
  {
   "cell_type": "code",
   "execution_count": 58,
   "metadata": {},
   "outputs": [
    {
     "name": "stdout",
     "output_type": "stream",
     "text": [
      "Financial Analysis\n",
      "------------------------------\n",
      "Total Months: 86\n",
      "Total: $38382578\n",
      "Average Change: $-2315.12\n",
      "Greatest Increase in Profits: Feb-2012 ($1926159)\n",
      "Greatest Decrease in Profits: Sept-2013 ($-2196167)\n"
     ]
    }
   ],
   "source": [
    "print(\"Financial Analysis\")\n",
    "print(\"-\"*30)\n",
    "#Calculate total number of months\n",
    "print(\"Total Months: \" + str(budget_data_df[\"Date\"].count()))\n",
    "#Calculate net amount of Profit/Losses over the entire period\n",
    "print(\"Total: $\" + str(budget_data_df[\"Profit/Losses\"].sum()))\n",
    "\n",
    "#Create a new column to calculate average change in Profit/Losses between months\n",
    "budget_data_df[\"shifted_column\"] = budget_data_df[\"Profit/Losses\"].shift(1)\n",
    "#Obtain the difference to perform average change\n",
    "budget_data_df[\"difference\"] = budget_data_df[\"Profit/Losses\"] - budget_data_df[\"shifted_column\"]\n",
    "\n",
    "#Obtain average change\n",
    "average = budget_data_df[\"difference\"].mean()\n",
    "#Obtain maximum to display the greatest increase in profits\n",
    "maximum = budget_data_df[\"difference\"].max()\n",
    "#Obtain minimum to display the greatest decrease in losses\n",
    "minimum = budget_data_df[\"difference\"].min()\n",
    "\n",
    "print(\"Average Change: $\" + \"%.2f\" % average)\n",
    "print(\"Greatest Increase in Profits: Feb-2012 ($\" + \"%.0f\" % maximum + \")\")\n",
    "print(\"Greatest Decrease in Profits: Sept-2013 ($\" + \"%.0f\" % minimum +\")\")\n",
    "\n"
   ]
  },
  {
   "cell_type": "code",
   "execution_count": 61,
   "metadata": {},
   "outputs": [],
   "source": [
    "import subprocess\n",
    "with open(\"PyBank.txt\", \"w+\") as output:\n",
    "    subprocess.call([\"python\", \"./main.py\"], stdout=output);\n",
    "                      "
   ]
  }
 ],
 "metadata": {
  "kernelspec": {
   "display_name": "Python 3",
   "language": "python",
   "name": "python3"
  },
  "language_info": {
   "codemirror_mode": {
    "name": "ipython",
    "version": 3
   },
   "file_extension": ".py",
   "mimetype": "text/x-python",
   "name": "python",
   "nbconvert_exporter": "python",
   "pygments_lexer": "ipython3",
   "version": "3.7.0"
  }
 },
 "nbformat": 4,
 "nbformat_minor": 2
}
